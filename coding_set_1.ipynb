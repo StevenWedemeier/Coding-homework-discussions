{
 "cells": [
  {
   "cell_type": "markdown",
   "id": "5abca4fe-c96d-4fe2-b07f-ecbb632b845e",
   "metadata": {},
   "source": [
    "Coding set 1"
   ]
  },
  {
   "cell_type": "code",
   "execution_count": 1,
   "id": "3e2dc2b1-0f77-4d36-a2b1-283c484d14d8",
   "metadata": {},
   "outputs": [
    {
     "name": "stdout",
     "output_type": "stream",
     "text": [
      "This is a test of the Python interpreter\n"
     ]
    }
   ],
   "source": [
    "#Excercise 1\n",
    "print(\"This is a test of the Python interpreter\")"
   ]
  },
  {
   "cell_type": "markdown",
   "id": "3220e7ad-ad47-444e-9825-c470c5c58af8",
   "metadata": {},
   "source": [
    "Other print command examples"
   ]
  },
  {
   "cell_type": "code",
   "execution_count": 9,
   "id": "1ed96397-690c-4b0e-851f-db0407b159b2",
   "metadata": {},
   "outputs": [
    {
     "name": "stdout",
     "output_type": "stream",
     "text": [
      "Steven is 23 years old.\n"
     ]
    }
   ],
   "source": [
    "#Adding functions to print command\n",
    "name = \"Steven\"\n",
    "age = 23\n",
    "print(f\"{name} is {age} years old.\")"
   ]
  },
  {
   "cell_type": "code",
   "execution_count": 24,
   "id": "e0a21eba-f15f-4332-a865-0a1fc51cf94e",
   "metadata": {},
   "outputs": [
    {
     "name": "stdout",
     "output_type": "stream",
     "text": [
      "\n",
      " /\\_/\\  \n",
      "( o_o )\n",
      "( >$< )\n",
      "\n"
     ]
    }
   ],
   "source": [
    "#Printing a cat holding money\n",
    "print('''\n",
    " /\\_/\\  \n",
    "( o_o )\n",
    "( >$< )\n",
    "''')"
   ]
  },
  {
   "cell_type": "markdown",
   "id": "268cbf6f-85da-4ff3-8728-7ae6a4321558",
   "metadata": {},
   "source": [
    "Exercise 3"
   ]
  },
  {
   "cell_type": "code",
   "execution_count": 2,
   "id": "b3b6979e-78e2-496c-81c2-e88a4447aec9",
   "metadata": {},
   "outputs": [],
   "source": [
    "#Exercise 3\n",
    "#Covert these decimals into binary \n",
    "# 11 -> 1101\n",
    "# 65 -> 1000001\n",
    "# 100 -> 1100100\n",
    "# 255 -> 11111111"
   ]
  },
  {
   "cell_type": "markdown",
   "id": "572076cf-d4c8-4a5c-ae26-2ab027ba0231",
   "metadata": {},
   "source": [
    "Exercise 4"
   ]
  },
  {
   "cell_type": "code",
   "execution_count": 26,
   "id": "2e85f5d8-ea8c-4494-98ac-08eb4552825c",
   "metadata": {},
   "outputs": [],
   "source": [
    "#Converting binary to decimal\n",
    "# 1101 -> 11\n",
    "# 1000 -> 8\n",
    "# 101011 -> 43"
   ]
  },
  {
   "cell_type": "code",
   "execution_count": null,
   "id": "023ba471-311f-42ba-a9d9-3afa425d021a",
   "metadata": {},
   "outputs": [],
   "source": []
  }
 ],
 "metadata": {
  "kernelspec": {
   "display_name": "Python 3 (ipykernel)",
   "language": "python",
   "name": "python3"
  },
  "language_info": {
   "codemirror_mode": {
    "name": "ipython",
    "version": 3
   },
   "file_extension": ".py",
   "mimetype": "text/x-python",
   "name": "python",
   "nbconvert_exporter": "python",
   "pygments_lexer": "ipython3",
   "version": "3.11.7"
  }
 },
 "nbformat": 4,
 "nbformat_minor": 5
}
