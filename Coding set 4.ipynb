{
 "cells": [
  {
   "cell_type": "markdown",
   "id": "057e80d6-a69b-40c4-ab20-20ff1a8bb463",
   "metadata": {},
   "source": [
    "#1 of Algorithm Workbench"
   ]
  },
  {
   "cell_type": "code",
   "execution_count": null,
   "id": "1ad91cd2-fdba-48e2-a054-40ae3ac68788",
   "metadata": {},
   "outputs": [],
   "source": [
    "result = 0\n",
    "while result < 100:\n",
    "    number = float(input(\"Enter a number to be multiplied by 10 \"))\n",
    "    result = number * 10\n",
    "    print(\"Result after multiplying by 10 is \", result)\n"
   ]
  },
  {
   "cell_type": "markdown",
   "id": "5b0043cb-10e7-4b0b-acb6-35c237fbb4a0",
   "metadata": {},
   "source": [
    "Prompts the user to input a number repeatedly. It multiplies each input number by 10 and prints the result. It continues this process until the cumulative result reaches or exceeds 100. It's a simple loop that demonstrates how to repeatedly perform a calculation and check a condition."
   ]
  },
  {
   "cell_type": "markdown",
   "id": "410b8d98-2413-43d0-8acf-151738e3a3bf",
   "metadata": {},
   "source": [
    "#2 of Algorithm Workbench"
   ]
  },
  {
   "cell_type": "code",
   "execution_count": null,
   "id": "155723ed-b0f9-48ac-ae47-b2206d79990e",
   "metadata": {},
   "outputs": [],
   "source": [
    "while True:\n",
    "    num1 = float(input(\"Enter the first number: \"))\n",
    "    num2 = float(input(\"Enter the second number: \"))\n",
    "    sum = num1 + num2\n",
    "    print(\"The sum is:\", sum)\n",
    "    repeat = input(\"Would you like to go through this magical journey again? (yes/no): \")\n",
    "    if repeat.lower() != \"yes\":\n",
    "        break\n"
   ]
  },
  {
   "cell_type": "markdown",
   "id": "a880490b-acef-42fe-a96c-3f72660909fd",
   "metadata": {},
   "source": [
    "This code continuously asks the user to input two numbers, calculates their sum, and displays the result. After each iteration, it asks the user if they want to repeat the process. If the user does not want to continue, the loop terminates. It's a whimsical journey through addition, with an option for the user to continue or end the adventure."
   ]
  },
  {
   "cell_type": "markdown",
   "id": "8ddab9f1-b639-46c3-9ea4-6a46750770b0",
   "metadata": {},
   "source": [
    "#1 Program Exercise"
   ]
  },
  {
   "cell_type": "code",
   "execution_count": null,
   "id": "b25a78f1-cb38-4b17-aa86-cead9f4c518f",
   "metadata": {},
   "outputs": [],
   "source": [
    "total_bugs = 0\n",
    "for day in range(1, 6):\n",
    "    bugs_collected = int(input(\"Enter the number of bugs collected on day {}: \".format(day)))\n",
    "    total_bugs += bugs_collected\n",
    "\n",
    "print(\"The total number of creepy crawlers collected in five days:\", total_bugs)\n"
   ]
  },
  {
   "cell_type": "markdown",
   "id": "82f6a2a8-cc92-4d51-95ff-b42d72b816ee",
   "metadata": {},
   "source": [
    "This code has the ranges (1, 6) because it counts from 1. Each day it asks how many creepy crawlers were caught. It then saves it, then goes to the next day. At the end of the code it adds all the total_bugs and displays the result."
   ]
  },
  {
   "cell_type": "markdown",
   "id": "67f1a64f-60bb-44c2-9406-48397d4c9f1c",
   "metadata": {},
   "source": [
    "#4 Program Exercise"
   ]
  },
  {
   "cell_type": "code",
   "execution_count": null,
   "id": "1cf30797-af7f-4396-a706-635175e27319",
   "metadata": {},
   "outputs": [],
   "source": [
    "speed = float(input(\"What is the speed of the vehicle in mph? \"))\n",
    "hours = int(input(\"How many hours has it traveled? \"))\n",
    "\n",
    "print(\"\\nHour\\tDistance Traveled\")\n",
    "print(\"-\" * 25)\n",
    "\n",
    "for hour in range(1, hours + 1):\n",
    "    distance = speed * hour\n",
    "    print(\"Hour\", hour, \"\\tDistance Traveled\", distance)\n"
   ]
  },
  {
   "cell_type": "markdown",
   "id": "fc5c8bad-cd75-482d-ba7b-4508c465dfff",
   "metadata": {},
   "source": [
    "This code takes the speed of a vehicle and the number of hours it's been traveling. Then, it prints a table showing the distance the vehicle has traveled each hour at that speed."
   ]
  },
  {
   "cell_type": "markdown",
   "id": "0124a2ab-9559-414b-9f88-0b9361928b3c",
   "metadata": {},
   "source": [
    "#13 Program Exercise"
   ]
  },
  {
   "cell_type": "code",
   "execution_count": null,
   "id": "66da4ad2-b8af-4834-8ea5-3f18c2848483",
   "metadata": {},
   "outputs": [],
   "source": [
    "for rows in range(7, 0, -1):  \n",
    "    for columns in range(rows):\n",
    "        print(\"*\", end=\"\")\n",
    "    print()\n"
   ]
  },
  {
   "cell_type": "markdown",
   "id": "c49fe511-eee2-44dc-9c50-6731016f0b94",
   "metadata": {},
   "source": [
    "This code is really easy to understand, it decreases by one. It has an end point of 0, which ends the command. Used the for command to contiue the loop."
   ]
  },
  {
   "cell_type": "markdown",
   "id": "e18b6d3f-35e5-4ac4-946c-cd06e95de103",
   "metadata": {},
   "source": [
    "#15 Programing Exercise"
   ]
  },
  {
   "cell_type": "code",
   "execution_count": null,
   "id": "5e700284-ddc3-4a12-a16b-7b03b3b0ce4b",
   "metadata": {},
   "outputs": [],
   "source": [
    "import turtle\n",
    "\n",
    "num_squares = 3\n",
    "t = turtle.Turtle()\n",
    "t.pendown()\n",
    "side = side_unit = 30\n",
    "\n",
    "while True:\n",
    "    try:\n",
    "        num_squares = int(input('input the number of squares'))\n",
    "    except ValueError:\n",
    "        print(\"please enter an integer\")\n",
    "    if num_squares > 3:\n",
    "        break\n",
    "\n",
    "for sq in range(1, num_squares + 1):\n",
    "    t.left(90)\n",
    "    t.forward(side)\n",
    "    t.left(90)\n",
    "    t.forward(side)\n",
    "    t.left(90)\n",
    "    t.forward(side)\n",
    "    t.left(90)\n",
    "    side = side_unit + 3 * sq \n",
    "\n",
    "    t.goto(0,0)"
   ]
  },
  {
   "cell_type": "markdown",
   "id": "fa2c6c37-96a1-4b20-a11a-6be5f2a25507",
   "metadata": {},
   "source": [
    "Not going to lie, I had to look this one up. I was really confused on how to do the rotations of the turtle, and how far it will go. I used https://stackoverflow.com/questions/49038809/turtle-graphics-repeating-squares for extra guidance. Im a decent experienced coder and I had difficulty for this question."
   ]
  }
 ],
 "metadata": {
  "kernelspec": {
   "display_name": "Python 3 (ipykernel)",
   "language": "python",
   "name": "python3"
  },
  "language_info": {
   "codemirror_mode": {
    "name": "ipython",
    "version": 3
   },
   "file_extension": ".py",
   "mimetype": "text/x-python",
   "name": "python",
   "nbconvert_exporter": "python",
   "pygments_lexer": "ipython3",
   "version": "3.11.7"
  }
 },
 "nbformat": 4,
 "nbformat_minor": 5
}
