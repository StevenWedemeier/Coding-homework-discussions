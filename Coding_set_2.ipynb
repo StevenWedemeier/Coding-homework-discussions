{
 "cells": [
  {
   "cell_type": "code",
   "execution_count": null,
   "id": "40b0774e",
   "metadata": {},
   "outputs": [],
   "source": [
    "# Get total sales.\n",
    "total_sales = float(input('Enter the projected sales: '))\n",
    "\n",
    "# Calculating sale profit with 23% of the sale.\n",
    "profit = total_sales * 0.23\n",
    "\n",
    "print('The profit is $', format(profit, ',.2f'))"
   ]
  },
  {
   "cell_type": "code",
   "execution_count": null,
   "id": "9867ab1e",
   "metadata": {},
   "outputs": [],
   "source": [
    "COLOR = input('What\\'s your favorite color? ')\n",
    "print(f\"Your favorite color is {COLOR}\")\n"
   ]
  },
  {
   "cell_type": "markdown",
   "id": "620ffbe2-acd5-4559-82ee-5e0c717671c2",
   "metadata": {},
   "source": [
    "This doesnt work how I wanted it."
   ]
  },
  {
   "cell_type": "code",
   "execution_count": null,
   "id": "74c1c889-545c-4597-bec2-f07ce368da70",
   "metadata": {
    "tags": []
   },
   "outputs": [],
   "source": [
    "R = float(input('How many feet in rows')) \n",
    "E = float(input('The amount of space used by an end-post assembly, in feet'))\n",
    "S = float(input('The amount of space between the vines, in feet'))\n",
    "\n",
    "V = (R - 2 * E) / S\n",
    "\n",
    "print(V)\n",
    "\n",
    "print('You can have this amount of grapevines within the given area:')\n",
    "print(V)\n",
    "\n",
    "\n",
    "\n",
    "\n",
    "\n"
   ]
  },
  {
   "cell_type": "markdown",
   "id": "b701d5b7-aa7d-44c6-af76-ae144227aa93",
   "metadata": {},
   "source": [
    "The correct way, with if statements."
   ]
  },
  {
   "cell_type": "code",
   "execution_count": null,
   "id": "fc4900e9-063d-4d12-8331-c40c7246ce9c",
   "metadata": {},
   "outputs": [],
   "source": [
    "def calculate_grapevines(R, E, S):\n",
    "\n",
    "    V = (R - 2 * E) / S\n",
    "    return V\n",
    "\n",
    "# Get user input for R, E, and S\n",
    "try:\n",
    "    R = float(input(\"Enter the length of the row (R) in feet: \"))\n",
    "    E = float(input(\"Enter the space used by an end-post assembly (E) in feet: \"))\n",
    "    S = float(input(\"Enter the space between the vines (S) in feet: \"))\n",
    "\n",
    "    grapevines = calculate_grapevines(R, E, S)\n",
    "    print(f\"Number of grapevines that can be planted: {grapevines}\")\n",
    "except ValueError as e:\n",
    "    print(e)\n",
    "except Exception as e:\n",
    "    print(f\"An error occurred: {e}\")\n"
   ]
  }
 ],
 "metadata": {
  "kernelspec": {
   "display_name": "Python 3 (ipykernel)",
   "language": "python",
   "name": "python3"
  },
  "language_info": {
   "codemirror_mode": {
    "name": "ipython",
    "version": 3
   },
   "file_extension": ".py",
   "mimetype": "text/x-python",
   "name": "python",
   "nbconvert_exporter": "python",
   "pygments_lexer": "ipython3",
   "version": "3.11.7"
  }
 },
 "nbformat": 4,
 "nbformat_minor": 5
}
